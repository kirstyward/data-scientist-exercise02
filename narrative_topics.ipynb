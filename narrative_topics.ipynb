{
 "cells": [
  {
   "cell_type": "markdown",
   "metadata": {},
   "source": [
    "## NTSB Narrative Data Exploration\n",
    "\n",
    "Exploration of the Narrative Data provided by the National Transportation Safety Board, primarily focusing on the \"probable cause\" column.\n",
    "\n",
    "Notebook includes:\n",
    "- Text json Data Ingestion\n",
    "- Text pre-processing\n",
    "- Corpus counts\n",
    "- Corpus counts over time\n",
    "- Topic modeling (LDA)"
   ]
  },
  {
   "cell_type": "code",
   "execution_count": 15,
   "metadata": {},
   "outputs": [],
   "source": [
    "#Import packages\n",
    "import pandas as pd \n",
    "import os \n",
    "from gensim.models import ldamodel \n",
    "import gensim.corpora\n",
    "import re\n",
    "from nltk.stem import PorterStemmer\n",
    "import matplotlib.pyplot as plt\n",
    "from pyprojroot import here\n",
    "\n",
    "%matplotlib inline"
   ]
  },
  {
   "cell_type": "markdown",
   "metadata": {},
   "source": [
    "## Data Ingestion"
   ]
  },
  {
   "cell_type": "code",
   "execution_count": 16,
   "metadata": {},
   "outputs": [
    {
     "name": "stdout",
     "output_type": "stream",
     "text": [
      "The NTSB narrative json data contains 3 columns and 76133 rows.\n"
     ]
    }
   ],
   "source": [
    "df = pd.DataFrame()\n",
    "\n",
    "#Read in narrative json files from data directory, parse json file to columns, append to one dataframe\n",
    "for file in os.listdir(here(\"data\")):\n",
    "    if file.startswith(\"NarrativeData_\"):\n",
    "        df = df.append(pd.read_json(os.path.join(here('data/'), file), orient='split'))\n",
    "        \n",
    "print('The NTSB narrative json data contains {} columns and {} rows.'.format(df.shape[1], df.shape[0]))"
   ]
  },
  {
   "cell_type": "code",
   "execution_count": 17,
   "metadata": {},
   "outputs": [
    {
     "data": {
      "text/html": [
       "<div>\n",
       "<style scoped>\n",
       "    .dataframe tbody tr th:only-of-type {\n",
       "        vertical-align: middle;\n",
       "    }\n",
       "\n",
       "    .dataframe tbody tr th {\n",
       "        vertical-align: top;\n",
       "    }\n",
       "\n",
       "    .dataframe thead th {\n",
       "        text-align: right;\n",
       "    }\n",
       "</style>\n",
       "<table border=\"1\" class=\"dataframe\">\n",
       "  <thead>\n",
       "    <tr style=\"text-align: right;\">\n",
       "      <th></th>\n",
       "      <th>EventId</th>\n",
       "      <th>narrative</th>\n",
       "      <th>probable_cause</th>\n",
       "    </tr>\n",
       "  </thead>\n",
       "  <tbody>\n",
       "    <tr>\n",
       "      <th>0</th>\n",
       "      <td>20100412X54138</td>\n",
       "      <td>NTSB investigators used data provided by vario...</td>\n",
       "      <td>The pilot's failure to maintain directional co...</td>\n",
       "    </tr>\n",
       "    <tr>\n",
       "      <th>1</th>\n",
       "      <td>20001212X22328</td>\n",
       "      <td>NTSB investigators may have traveled in suppor...</td>\n",
       "      <td>A total loss of engine power for undetermined ...</td>\n",
       "    </tr>\n",
       "    <tr>\n",
       "      <th>2</th>\n",
       "      <td>20001211X11810</td>\n",
       "      <td>NTSB investigators may not have traveled in su...</td>\n",
       "      <td>THE STUDENT PILOT'S FAILURE TO MAINTAIN AIRCR...</td>\n",
       "    </tr>\n",
       "    <tr>\n",
       "      <th>3</th>\n",
       "      <td>20001207X04295</td>\n",
       "      <td>NTSB investigators may not have traveled in su...</td>\n",
       "      <td>the accidental discharge of a spear gun by the...</td>\n",
       "    </tr>\n",
       "    <tr>\n",
       "      <th>4</th>\n",
       "      <td>20030827X01411</td>\n",
       "      <td>NTSB investigators may not have traveled in su...</td>\n",
       "      <td>The failure of the exhaust valve on the number...</td>\n",
       "    </tr>\n",
       "  </tbody>\n",
       "</table>\n",
       "</div>"
      ],
      "text/plain": [
       "          EventId                                          narrative  \\\n",
       "0  20100412X54138  NTSB investigators used data provided by vario...   \n",
       "1  20001212X22328  NTSB investigators may have traveled in suppor...   \n",
       "2  20001211X11810  NTSB investigators may not have traveled in su...   \n",
       "3  20001207X04295  NTSB investigators may not have traveled in su...   \n",
       "4  20030827X01411  NTSB investigators may not have traveled in su...   \n",
       "\n",
       "                                      probable_cause  \n",
       "0  The pilot's failure to maintain directional co...  \n",
       "1  A total loss of engine power for undetermined ...  \n",
       "2   THE STUDENT PILOT'S FAILURE TO MAINTAIN AIRCR...  \n",
       "3  the accidental discharge of a spear gun by the...  \n",
       "4  The failure of the exhaust valve on the number...  "
      ]
     },
     "execution_count": 17,
     "metadata": {},
     "output_type": "execute_result"
    }
   ],
   "source": [
    "df.head()"
   ]
  },
  {
   "cell_type": "markdown",
   "metadata": {},
   "source": [
    "## Text Pre-Processing\n",
    "\n",
    "- Stopwords\n",
    "- Case conversion\n",
    "- Porter Stemming\n",
    "- Punctuation Removal\n",
    "- Digit Removal"
   ]
  },
  {
   "cell_type": "code",
   "execution_count": 18,
   "metadata": {},
   "outputs": [],
   "source": [
    "#Get list of english stopwords from the nltk package\n",
    "from nltk.corpus import stopwords\n",
    "stop = stopwords.words('english')\n",
    "\n",
    "#Remove punctuation from stopwords list\n",
    "stop = [re.sub('[^\\w\\s]','', word) for word in stop]\n",
    "\n",
    "#Add custom stopwords based on context\n",
    "stop = stop + ['ntsb', 'result', 'factor', 'may', 'contribut', 'due', 'reason', 'related']"
   ]
  },
  {
   "cell_type": "code",
   "execution_count": 19,
   "metadata": {},
   "outputs": [],
   "source": [
    "#Function to clean text\n",
    "def clean_text(x, stopwords):\n",
    "    \n",
    "    \"\"\"\n",
    "    Performs text pre-processing on string: case converstion, punctuation & digit removal, tokenization, porter stemming, and stopword removal.\n",
    "    \n",
    "    Parameters:\n",
    "    \n",
    "    x - String to be processed\n",
    "    stopwords - A list of strings to be used as stop words\n",
    "    \n",
    "    \"\"\"\n",
    "    \n",
    "    x = re.sub(r'[^\\w\\s]','',x) #Remove punctuation\n",
    "    x = re.sub(r'[^\\D\\s]','',x) #Remove digits\n",
    "    x = x.lower().split() #Tokenize and lowercase text\n",
    "    \n",
    "    #Porter Stemming & stop word removal\n",
    "    ps = PorterStemmer()\n",
    "    x = [ps.stem(word) for word in x if word not in stopwords]\n",
    "\n",
    "    #Return processed text\n",
    "    return(x)\n",
    "\n",
    "#Create processed versions of 'narrative' and 'probable_cause' columns using clean_text() function\n",
    "df['probable_cause_clean'] = df.apply(lambda x: clean_text(x.probable_cause, stopwords=stop), axis=1)\n",
    "df['narrative_clean'] = df.apply(lambda x: clean_text(x.narrative, stopwords=stop), axis=1)"
   ]
  },
  {
   "cell_type": "code",
   "execution_count": 20,
   "metadata": {},
   "outputs": [
    {
     "data": {
      "text/html": [
       "<div>\n",
       "<style scoped>\n",
       "    .dataframe tbody tr th:only-of-type {\n",
       "        vertical-align: middle;\n",
       "    }\n",
       "\n",
       "    .dataframe tbody tr th {\n",
       "        vertical-align: top;\n",
       "    }\n",
       "\n",
       "    .dataframe thead th {\n",
       "        text-align: right;\n",
       "    }\n",
       "</style>\n",
       "<table border=\"1\" class=\"dataframe\">\n",
       "  <thead>\n",
       "    <tr style=\"text-align: right;\">\n",
       "      <th></th>\n",
       "      <th>EventId</th>\n",
       "      <th>narrative</th>\n",
       "      <th>probable_cause</th>\n",
       "      <th>probable_cause_clean</th>\n",
       "      <th>narrative_clean</th>\n",
       "    </tr>\n",
       "  </thead>\n",
       "  <tbody>\n",
       "    <tr>\n",
       "      <th>0</th>\n",
       "      <td>20100412X54138</td>\n",
       "      <td>NTSB investigators used data provided by vario...</td>\n",
       "      <td>The pilot's failure to maintain directional co...</td>\n",
       "      <td>[pilot, failur, maintain, direct, control, air...</td>\n",
       "      <td>[investig, use, data, provid, variou, entiti, ...</td>\n",
       "    </tr>\n",
       "    <tr>\n",
       "      <th>1</th>\n",
       "      <td>20001212X22328</td>\n",
       "      <td>NTSB investigators may have traveled in suppor...</td>\n",
       "      <td>A total loss of engine power for undetermined ...</td>\n",
       "      <td>[total, loss, engin, power, undetermin, reason]</td>\n",
       "      <td>[investig, travel, support, investig, use, dat...</td>\n",
       "    </tr>\n",
       "    <tr>\n",
       "      <th>2</th>\n",
       "      <td>20001211X11810</td>\n",
       "      <td>NTSB investigators may not have traveled in su...</td>\n",
       "      <td>THE STUDENT PILOT'S FAILURE TO MAINTAIN AIRCR...</td>\n",
       "      <td>[student, pilot, failur, maintain, aircraft, d...</td>\n",
       "      <td>[investig, travel, support, investig, use, dat...</td>\n",
       "    </tr>\n",
       "    <tr>\n",
       "      <th>3</th>\n",
       "      <td>20001207X04295</td>\n",
       "      <td>NTSB investigators may not have traveled in su...</td>\n",
       "      <td>the accidental discharge of a spear gun by the...</td>\n",
       "      <td>[accident, discharg, spear, gun, observ]</td>\n",
       "      <td>[investig, travel, support, investig, use, dat...</td>\n",
       "    </tr>\n",
       "    <tr>\n",
       "      <th>4</th>\n",
       "      <td>20030827X01411</td>\n",
       "      <td>NTSB investigators may not have traveled in su...</td>\n",
       "      <td>The failure of the exhaust valve on the number...</td>\n",
       "      <td>[failur, exhaust, valv, number, two, engin, cy...</td>\n",
       "      <td>[investig, travel, support, investig, use, dat...</td>\n",
       "    </tr>\n",
       "  </tbody>\n",
       "</table>\n",
       "</div>"
      ],
      "text/plain": [
       "          EventId                                          narrative  \\\n",
       "0  20100412X54138  NTSB investigators used data provided by vario...   \n",
       "1  20001212X22328  NTSB investigators may have traveled in suppor...   \n",
       "2  20001211X11810  NTSB investigators may not have traveled in su...   \n",
       "3  20001207X04295  NTSB investigators may not have traveled in su...   \n",
       "4  20030827X01411  NTSB investigators may not have traveled in su...   \n",
       "\n",
       "                                      probable_cause  \\\n",
       "0  The pilot's failure to maintain directional co...   \n",
       "1  A total loss of engine power for undetermined ...   \n",
       "2   THE STUDENT PILOT'S FAILURE TO MAINTAIN AIRCR...   \n",
       "3  the accidental discharge of a spear gun by the...   \n",
       "4  The failure of the exhaust valve on the number...   \n",
       "\n",
       "                                probable_cause_clean  \\\n",
       "0  [pilot, failur, maintain, direct, control, air...   \n",
       "1    [total, loss, engin, power, undetermin, reason]   \n",
       "2  [student, pilot, failur, maintain, aircraft, d...   \n",
       "3           [accident, discharg, spear, gun, observ]   \n",
       "4  [failur, exhaust, valv, number, two, engin, cy...   \n",
       "\n",
       "                                     narrative_clean  \n",
       "0  [investig, use, data, provid, variou, entiti, ...  \n",
       "1  [investig, travel, support, investig, use, dat...  \n",
       "2  [investig, travel, support, investig, use, dat...  \n",
       "3  [investig, travel, support, investig, use, dat...  \n",
       "4  [investig, travel, support, investig, use, dat...  "
      ]
     },
     "execution_count": 20,
     "metadata": {},
     "output_type": "execute_result"
    }
   ],
   "source": [
    "df.head()"
   ]
  },
  {
   "cell_type": "markdown",
   "metadata": {},
   "source": [
    "## Corpus Frequency\n",
    "\n",
    "What are the most common words in corpus?\n",
    "\n",
    "Produce two plots: Top 20 tokens in probable_cause and narrative columns after pre-processing"
   ]
  },
  {
   "cell_type": "code",
   "execution_count": 21,
   "metadata": {},
   "outputs": [
    {
     "data": {
      "image/png": "[encoded data removed]",
      "text/plain": [
       "<Figure size 432x288 with 1 Axes>"
      ]
     },
     "metadata": {
      "needs_background": "light"
     },
     "output_type": "display_data"
    }
   ],
   "source": [
    "pd.Series([x for item in df.probable_cause_clean for x in item]).value_counts()[:20].plot(kind='barh')\n",
    "plt.title('Probable Cause: Top 20 Tokens')\n",
    "plt.show()"
   ]
  },
  {
   "cell_type": "code",
   "execution_count": 22,
   "metadata": {},
   "outputs": [
    {
     "data": {
      "image/png": "[encoded data removed]",
      "text/plain": [
       "<Figure size 432x288 with 1 Axes>"
      ]
     },
     "metadata": {
      "needs_background": "light"
     },
     "output_type": "display_data"
    }
   ],
   "source": [
    "pd.Series([x for item in df.narrative_clean for x in item]).value_counts()[:20].plot(kind='barh')\n",
    "plt.title('Narrative: Top 20 Tokens')\n",
    "plt.show()"
   ]
  },
  {
   "cell_type": "markdown",
   "metadata": {},
   "source": [
    "## Corpus Frequency over Time\n",
    "\n",
    "How do the common words in the corpus change over time?"
   ]
  },
  {
   "cell_type": "code",
   "execution_count": 57,
   "metadata": {},
   "outputs": [
    {
     "data": {
      "text/html": [
       "<div>\n",
       "<style scoped>\n",
       "    .dataframe tbody tr th:only-of-type {\n",
       "        vertical-align: middle;\n",
       "    }\n",
       "\n",
       "    .dataframe tbody tr th {\n",
       "        vertical-align: top;\n",
       "    }\n",
       "\n",
       "    .dataframe thead th {\n",
       "        text-align: right;\n",
       "    }\n",
       "</style>\n",
       "<table border=\"1\" class=\"dataframe\">\n",
       "  <thead>\n",
       "    <tr style=\"text-align: right;\">\n",
       "      <th></th>\n",
       "      <th>year</th>\n",
       "      <th>token</th>\n",
       "      <th>count</th>\n",
       "    </tr>\n",
       "  </thead>\n",
       "  <tbody>\n",
       "    <tr>\n",
       "      <th>0</th>\n",
       "      <td>1993</td>\n",
       "      <td>aar</td>\n",
       "      <td>1</td>\n",
       "    </tr>\n",
       "    <tr>\n",
       "      <th>1</th>\n",
       "      <td>1993</td>\n",
       "      <td>abil</td>\n",
       "      <td>9</td>\n",
       "    </tr>\n",
       "    <tr>\n",
       "      <th>2</th>\n",
       "      <td>1993</td>\n",
       "      <td>abl</td>\n",
       "      <td>2</td>\n",
       "    </tr>\n",
       "    <tr>\n",
       "      <th>3</th>\n",
       "      <td>1993</td>\n",
       "      <td>abort</td>\n",
       "      <td>49</td>\n",
       "    </tr>\n",
       "    <tr>\n",
       "      <th>4</th>\n",
       "      <td>1993</td>\n",
       "      <td>abrupt</td>\n",
       "      <td>7</td>\n",
       "    </tr>\n",
       "  </tbody>\n",
       "</table>\n",
       "</div>"
      ],
      "text/plain": [
       "   year   token  count\n",
       "0  1993     aar      1\n",
       "1  1993    abil      9\n",
       "2  1993     abl      2\n",
       "3  1993   abort     49\n",
       "4  1993  abrupt      7"
      ]
     },
     "execution_count": 57,
     "metadata": {},
     "output_type": "execute_result"
    }
   ],
   "source": [
    "# Merge to cleaned aviation data from NTSB.ipynb to get date data\n",
    "ntsb  = pd.read_csv('data/aviation_data.csv')\n",
    "\n",
    "#Make sure eventID's are captalized the same so they merge correctly\n",
    "ntsb['EventId'] = ntsb['EventId'].str.upper()\n",
    "df['EventId'] = df['EventId'].str.upper()\n",
    "\n",
    "merged = df.merge(ntsb, on='EventId')\n",
    "\n",
    "#Create dataframe that has one row per word in the probable cause data, with associated year\n",
    "counts_df = merged[['EventId', 'probable_cause_clean', 'year']].explode('probable_cause_clean')\n",
    "\n",
    "#Limit data to 1993-2014\n",
    "#\"Full narrative descriptions may not be available for dates before 1993\"\n",
    "#2015 does not have a full year of data so counts may be misleading\n",
    "mask = (counts_df['year'] >= 1993) & (counts_df['year'] < 2015)\n",
    "counts_df = counts_df.loc[mask]\n",
    "\n",
    "#Create aggregate counts of words by year\n",
    "word_counts = counts_df.groupby(['year', 'probable_cause_clean']).agg({'count'}).reset_index()\n",
    "word_counts.columns = ['year', 'token', 'count']\n",
    "word_counts.head()"
   ]
  },
  {
   "cell_type": "code",
   "execution_count": 58,
   "metadata": {},
   "outputs": [
    {
     "data": {
      "text/plain": [
       "['pilot',\n",
       " 'failur',\n",
       " 'land',\n",
       " 'result',\n",
       " 'maintain',\n",
       " 'contribut',\n",
       " 'accid',\n",
       " 'loss',\n",
       " 'control']"
      ]
     },
     "execution_count": 58,
     "metadata": {},
     "output_type": "execute_result"
    }
   ],
   "source": [
    "#Get all words that were ever in the top five by counts each year\n",
    "top5words = word_counts.sort_values('count',ascending=False).groupby('year').head(5).token.unique().tolist()\n",
    "top5words"
   ]
  },
  {
   "cell_type": "code",
   "execution_count": 59,
   "metadata": {},
   "outputs": [
    {
     "data": {
      "text/html": [
       "<div>\n",
       "<style scoped>\n",
       "    .dataframe tbody tr th:only-of-type {\n",
       "        vertical-align: middle;\n",
       "    }\n",
       "\n",
       "    .dataframe tbody tr th {\n",
       "        vertical-align: top;\n",
       "    }\n",
       "\n",
       "    .dataframe thead th {\n",
       "        text-align: right;\n",
       "    }\n",
       "</style>\n",
       "<table border=\"1\" class=\"dataframe\">\n",
       "  <thead>\n",
       "    <tr style=\"text-align: right;\">\n",
       "      <th>token</th>\n",
       "      <th>year</th>\n",
       "      <th>accid</th>\n",
       "      <th>contribut</th>\n",
       "      <th>control</th>\n",
       "      <th>failur</th>\n",
       "      <th>land</th>\n",
       "      <th>loss</th>\n",
       "      <th>maintain</th>\n",
       "      <th>pilot</th>\n",
       "      <th>result</th>\n",
       "    </tr>\n",
       "  </thead>\n",
       "  <tbody>\n",
       "    <tr>\n",
       "      <th>0</th>\n",
       "      <td>1993</td>\n",
       "      <td>657</td>\n",
       "      <td>199</td>\n",
       "      <td>509</td>\n",
       "      <td>1270</td>\n",
       "      <td>633</td>\n",
       "      <td>439</td>\n",
       "      <td>657</td>\n",
       "      <td>1797</td>\n",
       "      <td>501</td>\n",
       "    </tr>\n",
       "    <tr>\n",
       "      <th>1</th>\n",
       "      <td>1994</td>\n",
       "      <td>585</td>\n",
       "      <td>103</td>\n",
       "      <td>474</td>\n",
       "      <td>1258</td>\n",
       "      <td>663</td>\n",
       "      <td>441</td>\n",
       "      <td>653</td>\n",
       "      <td>1680</td>\n",
       "      <td>521</td>\n",
       "    </tr>\n",
       "    <tr>\n",
       "      <th>2</th>\n",
       "      <td>1995</td>\n",
       "      <td>578</td>\n",
       "      <td>140</td>\n",
       "      <td>474</td>\n",
       "      <td>1364</td>\n",
       "      <td>804</td>\n",
       "      <td>492</td>\n",
       "      <td>653</td>\n",
       "      <td>1926</td>\n",
       "      <td>609</td>\n",
       "    </tr>\n",
       "    <tr>\n",
       "      <th>3</th>\n",
       "      <td>1996</td>\n",
       "      <td>585</td>\n",
       "      <td>98</td>\n",
       "      <td>499</td>\n",
       "      <td>1370</td>\n",
       "      <td>946</td>\n",
       "      <td>474</td>\n",
       "      <td>633</td>\n",
       "      <td>1964</td>\n",
       "      <td>710</td>\n",
       "    </tr>\n",
       "    <tr>\n",
       "      <th>4</th>\n",
       "      <td>1997</td>\n",
       "      <td>466</td>\n",
       "      <td>162</td>\n",
       "      <td>467</td>\n",
       "      <td>1272</td>\n",
       "      <td>858</td>\n",
       "      <td>471</td>\n",
       "      <td>634</td>\n",
       "      <td>1838</td>\n",
       "      <td>633</td>\n",
       "    </tr>\n",
       "  </tbody>\n",
       "</table>\n",
       "</div>"
      ],
      "text/plain": [
       "token  year  accid  contribut  control  failur  land  loss  maintain  pilot  \\\n",
       "0      1993    657        199      509    1270   633   439       657   1797   \n",
       "1      1994    585        103      474    1258   663   441       653   1680   \n",
       "2      1995    578        140      474    1364   804   492       653   1926   \n",
       "3      1996    585         98      499    1370   946   474       633   1964   \n",
       "4      1997    466        162      467    1272   858   471       634   1838   \n",
       "\n",
       "token  result  \n",
       "0         501  \n",
       "1         521  \n",
       "2         609  \n",
       "3         710  \n",
       "4         633  "
      ]
     },
     "execution_count": 59,
     "metadata": {},
     "output_type": "execute_result"
    }
   ],
   "source": [
    "#Subset data to top 5 words, pivot for ploting\n",
    "word_counts_limited = word_counts[word_counts['token'].isin(top5words)]\n",
    "plot_df = word_counts_limited.pivot(index = 'year', columns = 'token', values = 'count').reset_index()\n",
    "plot_df.head()"
   ]
  },
  {
   "cell_type": "code",
   "execution_count": 61,
   "metadata": {},
   "outputs": [
    {
     "data": {
      "text/plain": [
       "<matplotlib.legend.Legend at 0x7fa9ac1bd3c8>"
      ]
     },
     "execution_count": 61,
     "metadata": {},
     "output_type": "execute_result"
    },
    {
     "data": {
      "image/png": "[encoded data removed]",
      "text/plain": [
       "<Figure size 432x288 with 1 Axes>"
      ]
     },
     "metadata": {
      "needs_background": "light"
     },
     "output_type": "display_data"
    }
   ],
   "source": [
    "#Plot counts over time\n",
    "for column in plot_df.columns[1:len(plot_df.columns)] :\n",
    "    plt.plot(plot_df['year'], plot_df[column], label = column)\n",
    "plt.xlabel('Year')\n",
    "plt.ylabel('Count')\n",
    "plt.title('Corpus Frequency over time')\n",
    "plt.legend(bbox_to_anchor=(1.05, 1))"
   ]
  },
  {
   "cell_type": "markdown",
   "metadata": {},
   "source": [
    "The corpus frequencies of all of the top terms are decreasing over time, which makes sense since there are less reports and accidents over time (see `NTSB.ipynb`).\n",
    "The top terms over the years are suprisingly stable, with only nine terms falling in the top five of any year between 1991-2014.\n",
    "\n",
    "## Topic Modeling\n",
    "\n",
    "Topic Modeling with LDA (Latent Dirchlet Allocation) to find themes in probable cause text."
   ]
  },
  {
   "cell_type": "code",
   "execution_count": 70,
   "metadata": {},
   "outputs": [],
   "source": [
    "#Get array of probable cause text for input into the lda model\n",
    "training = [value[0] for value in df[['probable_cause_clean']].values]\n",
    "\n",
    "#Define number of topics for LDA to produce\n",
    "num_topics = 8\n",
    "\n",
    "#Get mapping between words and their ids\n",
    "id2word = gensim.corpora.Dictionary(training)\n",
    "\n",
    "#Create Corpus\n",
    "corpus = [id2word.doc2bow(text) for text in training]\n",
    "\n",
    "#Run LDA model\n",
    "lda = ldamodel.LdaModel(corpus=corpus, id2word=id2word, num_topics=num_topics)"
   ]
  },
  {
   "cell_type": "code",
   "execution_count": 71,
   "metadata": {},
   "outputs": [
    {
     "name": "stdout",
     "output_type": "stream",
     "text": [
      "Topic: 0 \n",
      "Words: ['engin', 'loss', 'power', 'undetermin', 'reason', 'failur', 'land', 'forc', 'mainten', 'result', 'terrain', 'carburetor', 'partial', 'contribut', 'lack']\n",
      "Topic: 1 \n",
      "Words: ['pilot', 'condit', 'flight', 'failur', 'factor', 'weather', 'approach', 'accid', 'proper', 'instrument', 'night', 'contribut', 'dark', 'continu', 'decis']\n",
      "Topic: 2 \n",
      "Words: ['control', 'pilot', 'failur', 'maintain', 'direct', 'land', 'airplan', 'loss', 'flight', 'result', 'student', 'aircraft', 'instructor', 'roll', 'inadequ']\n",
      "Topic: 3 \n",
      "Words: ['fuel', 'pilot', 'inadequ', 'result', 'engin', 'power', 'loss', 'preflight', 'exhaust', 'improp', 'plan', 'failur', 'starvat', 'land', 'accid']\n",
      "Topic: 4 \n",
      "Words: ['pilot', 'failur', 'maintain', 'result', 'airspe', 'altitud', 'stall', 'collis', 'adequ', 'maneuv', 'inadvert', 'terrain', 'clearanc', 'low', 'climb']\n",
      "Topic: 5 \n",
      "Words: ['land', 'pilot', 'result', 'gear', 'improp', 'flare', 'failur', 'hard', 'main', 'nose', 'recoveri', 'bounc', 'rotor', 'right', 'left']\n",
      "Topic: 6 \n",
      "Words: ['pilot', 'lack', 'accid', 'factor', 'experi', 'runway', 'terrain', 'takeoff', 'airplan', 'failur', 'aircraft', 'contribut', 'select', 'snow', 'unsuit']\n",
      "Topic: 7 \n",
      "Words: ['pilot', 'wind', 'condit', 'inadequ', 'failur', 'compens', 'factor', 'accid', 'maintain', 'crosswind', 'contribut', 'gusti', 'visual', 'high', 'lookout']\n"
     ]
    }
   ],
   "source": [
    "#Print words in topics\n",
    "for index, topic in lda.show_topics(formatted=False, num_words= 15):\n",
    "    print('Topic: {} \\nWords: {}'.format(index, [w[0] for w in topic]))"
   ]
  },
  {
   "cell_type": "code",
   "execution_count": null,
   "metadata": {},
   "outputs": [],
   "source": []
  }
 ],
 "metadata": {
  "kernelspec": {
   "display_name": "Python 3",
   "language": "python",
   "name": "python3"
  },
  "language_info": {
   "codemirror_mode": {
    "name": "ipython",
    "version": 3
   },
   "file_extension": ".py",
   "mimetype": "text/x-python",
   "name": "python",
   "nbconvert_exporter": "python",
   "pygments_lexer": "ipython3",
   "version": "3.7.3"
  }
 },
 "nbformat": 4,
 "nbformat_minor": 4
}
